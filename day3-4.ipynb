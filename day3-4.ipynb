{
 "cells": [
  {
   "metadata": {
    "ExecuteTime": {
     "end_time": "2024-12-12T05:27:36.847254Z",
     "start_time": "2024-12-12T05:27:36.838055Z"
    }
   },
   "cell_type": "code",
   "source": [
    "import dotenv\n",
    "dotenv.load_dotenv()"
   ],
   "id": "950f9bc97df7fe0d",
   "outputs": [
    {
     "data": {
      "text/plain": [
       "True"
      ]
     },
     "execution_count": 1,
     "metadata": {},
     "output_type": "execute_result"
    }
   ],
   "execution_count": 1
  },
  {
   "metadata": {
    "ExecuteTime": {
     "end_time": "2024-12-12T05:27:37.283138Z",
     "start_time": "2024-12-12T05:27:36.865770Z"
    }
   },
   "cell_type": "code",
   "source": [
    "from langchain.chat_models import ChatOpenAI\n",
    "from langchain.memory import ConversationBufferMemory\n",
    "\n",
    "chat_memory = ConversationBufferMemory(\n",
    "    memory_key=\"chat_history\",\n",
    "    return_messages=True,\n",
    ")\n",
    "llm = ChatOpenAI(\n",
    "    model=\"gpt-4o-mini\",\n",
    "    temperature=0.1,\n",
    "    verbose=True,\n",
    ")\n",
    "\n",
    "\n",
    "def load_memory(_):\n",
    "    return chat_memory.load_memory_variables({})['chat_history']"
   ],
   "id": "2acf1e0c2f8aa35c",
   "outputs": [],
   "execution_count": 2
  },
  {
   "metadata": {
    "ExecuteTime": {
     "end_time": "2024-12-12T05:27:37.304010Z",
     "start_time": "2024-12-12T05:27:37.302860Z"
    }
   },
   "cell_type": "code",
   "source": "",
   "id": "851a44dc57ee67e6",
   "outputs": [],
   "execution_count": null
  },
  {
   "metadata": {
    "ExecuteTime": {
     "end_time": "2024-12-12T05:27:37.310167Z",
     "start_time": "2024-12-12T05:27:37.307323Z"
    }
   },
   "cell_type": "code",
   "source": [
    "from langchain.prompts import FewShotChatMessagePromptTemplate, ChatPromptTemplate, MessagesPlaceholder\n",
    "from langchain.schema.runnable import RunnablePassthrough, RunnableLambda\n",
    "examples = [\n",
    "    {\n",
    "        \"movie\": \"탑건\",\n",
    "        \"answer\": \"🛩️👨‍✈️🔥\",\n",
    "    },\n",
    "    {\n",
    "        \"movie\": \"갓 파더\",\n",
    "        \"answer\": \"👨‍👨‍👦🔫🍝\"\n",
    "    },\n",
    "    {\n",
    "        \"movie\": \"타이타닉\",\n",
    "        \"answer\": \"🚢❄️💔\"\n",
    "    },\n",
    "    {\n",
    "        \"movie\": \"라라랜드\",\n",
    "        \"answer\": \"🦸‍♂️🦸‍♀️⚡\",\n",
    "    },\n",
    "    {\n",
    "        \"movie\": \"조커\",\n",
    "        \"answer\": \"🎭🃏🪓\",\n",
    "    },\n",
    "    {\n",
    "        \"movie\": \"얼음왕국\",\n",
    "        \"answer\": \"❄️👸⛄\"\n",
    "    },\n",
    "]\n",
    "\n",
    "example_prompt = ChatPromptTemplate.from_messages([\n",
    "    ('human', '{movie}'),\n",
    "    ('ai', '{answer}')\n",
    "])\n",
    "\n",
    "few_shot_prompt = FewShotChatMessagePromptTemplate(\n",
    "    examples=examples,\n",
    "    example_prompt=example_prompt,\n",
    ")\n",
    "final_prompt = ChatPromptTemplate.from_messages([\n",
    "\n",
    "    ('system', \"\"\"\n",
    "    You're emoji generating AI bot base on movie.\n",
    "    Generate three emojis that is representing it.\n",
    "    Don't reply anything but three emojis.\n",
    "    \"\"\"),\n",
    "    few_shot_prompt,\n",
    "    MessagesPlaceholder(variable_name='chat_history'),\n",
    "    ('human', '{ask}',)\n",
    "])\n",
    "# chain = final_prompt | llm\n",
    "# chain.invoke({'movie': '리틀 포레스트'})\n",
    "\n",
    "chain = { \"ask\": RunnablePassthrough(), 'movie': RunnablePassthrough(),'chat_history': RunnableLambda(load_memory)} | final_prompt | llm\n"
   ],
   "id": "5ff2eb4c3cdbfa9a",
   "outputs": [],
   "execution_count": 3
  },
  {
   "metadata": {
    "ExecuteTime": {
     "end_time": "2024-12-12T05:27:37.318037Z",
     "start_time": "2024-12-12T05:27:37.316027Z"
    }
   },
   "cell_type": "code",
   "source": [
    "def ask_movie_for_emoji(movie: str):\n",
    "    ask = f'What do you know about {movie}?. If I asked before, let me know.'\n",
    "    result = chain.invoke({\"ask\": ask, 'movie': movie})\n",
    "    chat_memory.save_context(\n",
    "        inputs={'human': movie},\n",
    "        outputs={'ai': result.content}\n",
    "    )\n",
    "    print(result.content)"
   ],
   "id": "463a1c57d5eb21bf",
   "outputs": [],
   "execution_count": 4
  },
  {
   "metadata": {
    "ExecuteTime": {
     "end_time": "2024-12-12T05:27:38.108685Z",
     "start_time": "2024-12-12T05:27:37.323566Z"
    }
   },
   "cell_type": "code",
   "source": "ask_movie_for_emoji('The little mermaid')",
   "id": "b8f9a7879c82ed62",
   "outputs": [
    {
     "name": "stdout",
     "output_type": "stream",
     "text": [
      "🧜‍♀️🌊🐚\n"
     ]
    }
   ],
   "execution_count": 5
  },
  {
   "metadata": {
    "ExecuteTime": {
     "end_time": "2024-12-12T05:27:41.687416Z",
     "start_time": "2024-12-12T05:27:38.184456Z"
    }
   },
   "cell_type": "code",
   "source": "ask_movie_for_emoji('Forest gump')\n",
   "id": "93d76ed0d8c1e1bd",
   "outputs": [
    {
     "name": "stdout",
     "output_type": "stream",
     "text": [
      "🍫🏃‍♂️🌳\n"
     ]
    }
   ],
   "execution_count": 6
  },
  {
   "metadata": {
    "ExecuteTime": {
     "end_time": "2024-12-12T05:27:42.299567Z",
     "start_time": "2024-12-12T05:27:41.764503Z"
    }
   },
   "cell_type": "code",
   "source": [
    "result = chain.invoke({'ask': '마지막으로 질문한 영화에 대해 이모지로 표현해줘?'})\n",
    "print(result.content)"
   ],
   "id": "c45bcdc6ee77ee14",
   "outputs": [
    {
     "name": "stdout",
     "output_type": "stream",
     "text": [
      "🍫🏃‍♂️🌳\n"
     ]
    }
   ],
   "execution_count": 7
  }
 ],
 "metadata": {
  "kernelspec": {
   "name": "python3",
   "language": "python",
   "display_name": "Python 3 (ipykernel)"
  }
 },
 "nbformat": 5,
 "nbformat_minor": 9
}
