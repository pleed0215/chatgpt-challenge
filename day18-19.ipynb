{
 "cells": [
  {
   "metadata": {
    "ExecuteTime": {
     "end_time": "2024-12-25T01:49:24.970667Z",
     "start_time": "2024-12-25T01:49:24.716009Z"
    }
   },
   "cell_type": "code",
   "source": [
    "\n",
    "import dotenv\n",
    "from langchain.agents import initialize_agent\n",
    "from langchain.schema import SystemMessage\n",
    "from langchain.tools import BaseTool\n",
    "\n",
    "dotenv.load_dotenv()"
   ],
   "id": "9f89f0b8907fa921",
   "outputs": [
    {
     "data": {
      "text/plain": [
       "True"
      ]
     },
     "execution_count": 1,
     "metadata": {},
     "output_type": "execute_result"
    }
   ],
   "execution_count": 1
  },
  {
   "metadata": {
    "ExecuteTime": {
     "end_time": "2024-12-25T01:50:04.488381Z",
     "start_time": "2024-12-25T01:50:03.326115Z"
    }
   },
   "cell_type": "code",
   "source": [
    "from duckduckgo_search import DDGS\n",
    "query = \"Research about the XZ backdoor\"\n",
    "ddg = DDGS()\n",
    "try:\n",
    "    result = ddg.text(query)\n",
    "    print(result)\n",
    "except Exception as e:\n",
    "    print(\"Error\", e)"
   ],
   "id": "144bfe9ecdc87afc",
   "outputs": [
    {
     "name": "stdout",
     "output_type": "stream",
     "text": [
      "[{'title': 'Everything I know about the XZ backdoor - Boehs', 'href': 'https://boehs.org/node/everything-i-know-about-the-xz-backdoor', 'body': 'Recently, a backdoor was discovered in XZ, a popular library for lossless data compression. Initial research efforts were predominantly concentrated on unpacking the well-disguised attack vector, while the social aspects of the attack received only murmurings. To investigate this attack, I never read a line of code.'}, {'title': 'XZ Utils backdoor - Wikipedia', 'href': 'https://en.wikipedia.org/wiki/XZ_Utils_backdoor', 'body': 'In February 2024, a malicious backdoor was introduced to the Linux build of the xz utility within the liblzma library in versions 5.6.0 and 5.6.1 by an account using the name \"Jia Tan\". [b] [4] The backdoor gives an attacker who possesses a specific Ed448 private key remote code execution capabilities on the affected Linux system.The issue has been given the Common Vulnerabilities and ...'}, {'title': 'research!rsc: Timeline of the xz open source attack - swtch', 'href': 'https://research.swtch.com/xz-timeline', 'body': \"2024-02-24: Jia Tan tags and builds v5.6.0 and publishes an xz-5.6..tar.gz distribution with an extra, malicious build-to-host.m4 that adds the backdoor when building a deb/rpm package. This m4 file is not present in the source repository, but many other legitimate ones are added during package as well, so it's not suspicious by itself.\"}, {'title': 'CVE-2024-3094 XZ Backdoor: All you need to know - JFrog', 'href': 'https://jfrog.com/blog/xz-backdoor-attack-cve-2024-3094-all-you-need-to-know/', 'body': 'Adding the following string to /etc/environment will disable the malicious backdoor functionality (applies after restarting SSH and Systemd) - yolAbejyiejuvnup=Evjtgvsh5okmkAvj JFrog OSS tools for detection of CVE-2024-3094. The JFrog Research team published an open-source detector for CVE-2024-3094.'}, {'title': 'FAQ on the xz-utils backdoor (CVE-2024-3094) - GitHub Gist', 'href': 'https://gist.github.com/thesamesam/223949d5a074ebc3dce9ee78baad9e27', 'body': \"oss-security - backdoor in upstream xz/liblzma leading to ssh server compromise; Evan Boehs - Everything I know about the XZ backdoor; Tukaani - XZ Utils backdoor; Rob Mensching - A Microcosm of the interactions in Open Source projects; Russ Cox - Timeline of the xz open source attack; Rhea's Substack - XZ Backdoor: Times, damned times, and scams\"}, {'title': 'Kaspersky analysis of the backdoor in XZ - Securelist', 'href': 'https://securelist.com/xz-backdoor-story-part-1/112354/', 'body': 'Part 3: XZ backdoor. Hook analysis. On March 29, 2024, a single message on the Openwall OSS-security mailing list marked an important discovery for the information security, open source and Linux communities: the discovery of a malicious backdoor in XZ. XZ is a compression utility integrated into many popular distributions of Linux.'}, {'title': 'The 5x5—The XZ Backdoor: Trust and Open Source Software', 'href': 'https://dfrlab.org/2024/05/01/the-5x5-the-xz-backdoor-trust-and-open-source-software/', 'body': 'After further preparation, they issued commits for XZ Utils versions 5.6.0 and 5.6.1, implementing the backdoor into the code. This backdoor had the potential to infect Linux operating systems, but thanks to the keen eye and curiosity of a Microsoft engineer, it was discovered before causing widespread harm.'}, {'title': 'Dissecting the Dangerous XZ Utils Backdoor CVE 2024-3094: An Attack on ...', 'href': 'https://www.cyberpeace.org/resources/blogs/dissecting-the-dangerous-xz-utils-backdoor-cve-2024-3094-an-attack-on-linux', 'body': \"It was at this point that the backdoor was implanted in the project code. Fortunately, the Potential Disaster Was Averted. As per Igor Kuznetsov, head of Kaspersky's Global Research and Analysis Team (GReAT), the vulnerability CVE-2024-3094 is considered as the largest scale attack that has happened in the Linux ecosystem history.\"}, {'title': 'XZ Utils Backdoor Vulnerability (CVE-2024-3094): Comprehensive ... - Uptycs', 'href': 'https://www.uptycs.com/blog/threat-research-report-team/xz-utils-backdoor-vulnerability-cve-2024-3094', 'body': 'This backdoor vulnerability has sent ripples across the tech world, primarily due to the widespread use of XZ Utils for lossless data compression in Linux and macOS systems. This blog aims to demystify CVE-2024-3094, outlining its background, impact, and the steps required for mitigation.'}, {'title': 'XZ Utils Backdoor — Everything You Need to Know, and What ... - Akamai', 'href': 'https://www.akamai.com/blog/security-research/critical-linux-backdoor-xz-utils-discovered-what-to-know', 'body': 'CVE-2024-3094 is a vulnerability discovered in the open-source library XZ Utils that stems from malicious code that was pushed into the library by one of its maintainers.. It was originally reported as an SSH authentication bypass backdoor, but further analysis indicates that the backdoor actually enables remote code execution (RCE).. The threat actor started contributing to the XZ project ...'}]\n"
     ]
    }
   ],
   "execution_count": 3
  },
  {
   "metadata": {},
   "cell_type": "code",
   "outputs": [],
   "execution_count": null,
   "source": [
    "from langchain.tools import BaseTool\n",
    "class WikipediaSearchTool(BaseTool):\n",
    "    def _run(self, *args, **kwargs):\n",
    "        pass"
   ],
   "id": "48fcad2219445e12"
  },
  {
   "metadata": {},
   "cell_type": "code",
   "outputs": [],
   "execution_count": null,
   "source": [
    "class DuckDuckGoSearchTool(BaseTool):\n",
    "    def _run(self, *args, **kwargs):\n",
    "        pass"
   ],
   "id": "955d9c7bbaaf4ef2"
  },
  {
   "metadata": {},
   "cell_type": "code",
   "outputs": [],
   "execution_count": null,
   "source": [
    "class ScrapingWebsitesTool(BaseTool):\n",
    "    def _run(self, *args, **kwargs):\n",
    "        pass"
   ],
   "id": "72a6713bdbbb6fbc"
  },
  {
   "metadata": {},
   "cell_type": "code",
   "outputs": [],
   "execution_count": null,
   "source": [
    "class SavingToFileTool(BaseTool):\n",
    "    def _run(self, *args, **kwargs):\n",
    "        pass"
   ],
   "id": "c6a1b6b7673d6e2e"
  },
  {
   "metadata": {
    "ExecuteTime": {
     "end_time": "2024-12-25T02:03:52.262875Z",
     "start_time": "2024-12-25T02:03:47.216381Z"
    }
   },
   "cell_type": "code",
   "source": [
    "from langchain.chat_models import ChatOpenAI\n",
    "llm = ChatOpenAI(\n",
    "    model=\"gpt-4o-mini\",\n",
    ")\n",
    "agent = initialize_agent(\n",
    "    llm=llm,\n",
    "    tools=[\n",
    "        WikipediaSearchTool(),\n",
    "        DuckDuckGoSearchTool(),\n",
    "        ScrapingWebsitesTool(),\n",
    "        SavingToFileTool(),\n",
    "    ],\n",
    "    verbose=True,\n",
    "    handle_parsing_errors=True,\n",
    "    agent_kwargs={\n",
    "        \"system_message\": SystemMessage(content=\"\"\"\n",
    "        You are a good assistance for collection information about query.\n",
    "        You will collect information from Wikipedia. Summary it and make array for searching web href from DuckDuckGo.\n",
    "        Next, you will scrape information from those urls above hrefs, summary it and make a text file for saving it.\n",
    "        \"\"\")\n",
    "    }\n",
    ")"
   ],
   "id": "5a94ed24ec3efbb4",
   "outputs": [],
   "execution_count": 10
  },
  {
   "metadata": {
    "ExecuteTime": {
     "end_time": "2024-12-25T02:04:35.309175Z",
     "start_time": "2024-12-25T02:04:33.811961Z"
    }
   },
   "cell_type": "code",
   "source": "",
   "id": "bf6cb5ac225f7b0c",
   "outputs": [
    {
     "data": {
      "text/plain": [
       "AIMessage(content='```json\\n[\\n  \"XZ Utils backdoor\",\\n  \"CVE-2024-3094\",\\n  \"Ed448 private key attack\",\\n  \"remote code execution Linux\",\\n  \"supply chain attack\",\\n  \"cybersecurity vulnerabilities\",\\n  \"malware installation\",\\n  \"manufacturing tampering\",\\n  \"software supply chain security\",\\n  \"Linus\\'s law\",\\n  \"open source software development\",\\n  \"bug fixing in software\",\\n  \"software review effectiveness\"\\n]\\n```')"
      ]
     },
     "execution_count": 12,
     "metadata": {},
     "output_type": "execute_result"
    }
   ],
   "execution_count": 12
  },
  {
   "metadata": {},
   "cell_type": "code",
   "outputs": [],
   "execution_count": null,
   "source": "",
   "id": "8d767ccc9dd3ccd3"
  }
 ],
 "metadata": {
  "kernelspec": {
   "name": "python3",
   "language": "python",
   "display_name": "Python 3 (ipykernel)"
  }
 },
 "nbformat": 5,
 "nbformat_minor": 9
}
