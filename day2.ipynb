{
 "cells": [
  {
   "metadata": {
    "ExecuteTime": {
     "end_time": "2024-12-10T01:49:59.045306Z",
     "start_time": "2024-12-10T01:49:59.041573Z"
    }
   },
   "cell_type": "code",
   "source": [
    "import dotenv\n",
    "dotenv.load_dotenv()"
   ],
   "id": "c8db0383b23f17be",
   "outputs": [
    {
     "data": {
      "text/plain": [
       "True"
      ]
     },
     "execution_count": 24,
     "metadata": {},
     "output_type": "execute_result"
    }
   ],
   "execution_count": 24
  },
  {
   "metadata": {
    "ExecuteTime": {
     "end_time": "2024-12-10T01:49:59.088651Z",
     "start_time": "2024-12-10T01:49:59.085382Z"
    }
   },
   "cell_type": "code",
   "source": [
    "from langchain.chat_models import ChatOpenAI\n",
    "llm = ChatOpenAI(\n",
    "    model=\"gpt-3.5-turbo\",\n",
    "    temperature=0.1,\n",
    ")"
   ],
   "id": "f80b886130624fa9",
   "outputs": [],
   "execution_count": 25
  },
  {
   "metadata": {
    "ExecuteTime": {
     "end_time": "2024-12-10T01:50:03.264975Z",
     "start_time": "2024-12-10T01:49:59.116973Z"
    }
   },
   "cell_type": "code",
   "source": [
    "from langchain.prompts import ChatPromptTemplate, FewShotChatMessagePromptTemplate\n",
    "examples = [\n",
    "    {\n",
    "        \"movie\": \"기생충\",\n",
    "        \"answer\": \"\"\"\n",
    "        감독: 봉준호\n",
    "        주요 출연진: 송강호, 이선균, 조여정, 최우식, 박소담, 장혜진, 이정은\n",
    "        예산: 1,100만 달러\n",
    "        흥행수익: 3천 억 원\n",
    "        장르: 드라마, 스릴러, 블랙코미디, 서스펜스, 범죄, 가족\n",
    "        시놉시스: “폐 끼치고 싶진 않았어요.”\n",
    "전원백수로 살 길 막막하지만 사이는 좋은 기택(송강호) 가족.\n",
    "장남 기우(최우식)에게 명문대생 친구 민혁(박서준)이 연결시켜준 고액 과외 자리는\n",
    "모처럼 싹튼 고정수입의 희망이다.\n",
    "온 가족의 도움과 기대 속에 박 사장(이선균) 집으로 향하는 기우.\n",
    "글로벌 IT 기업 CEO인 박 사장의 저택에 도착하자\n",
    "젊고 아름다운 사모님 연교(조여정)가 기우를 맞이한다.\n",
    "\n",
    "그러나 이렇게 시작된 두 가족의 만남 뒤로, 걷잡을 수 없는 사건이 기다리고 있었으니.\n",
    "\"\"\",\n",
    "    },\n",
    "    {\n",
    "        \"movie\": \"바람과 함께 사라지다\",\n",
    "        \"answer\": \"\"\"\n",
    "        감독: 빅터 플레밍\n",
    "        주요 출연진: 클라크 게이블, 비비안 리, 레슬리 하워드, 올리비아 드 하빌랜드 외..\n",
    "        예산: 385만 달러\n",
    "        흥행수익: 240억 달러\n",
    "        장르: 드라마, 역사, 로맨스\n",
    "        시놉시스: “내일은 내일의 태양이 뜨는 법이니까”\n",
    "\n",
    "남북전쟁 발발 직전, 오하라 가문의 장녀 ‘스칼렛’은 도도한 매력으로 뭇 남성들의 우상이다.\n",
    "\n",
    "그녀가 짝사랑하던 '애슐리'가 친구 ‘멜라니’와 결혼한다는 이야기를 듣고 뒤늦게 고백하지만 그 자리에서 거절당하고, 이 모습을 우연히 그 자리에 있었던 '레트'에게 들키고 만다.\n",
    "\n",
    "당황해 어쩔 줄을 모르는 스칼렛과는 반대로 이미 레트는 거침없는 매력의 스칼렛에게 빠져들고 있었다.\n",
    "\n",
    "전쟁은 남부에 불리해지고 스칼렛은 레트의 마차를 타고 죽을 고비를 넘기며 고향으로 돌아간다. 파란만장한 미국 현대사를 온몸으로 관통하는 가운데, 두 사람은 결혼하게 된다.\n",
    "\n",
    "하지만, 행복한 결혼생활도 잠시, 레트는 여전히 스칼렛의 마음에는 애슐리가 있다는 사실을 깨닫게 되는데...\n",
    "\n",
    "삶의 모든 것을 뜨겁게 사랑했던 여자 ‘스칼렛’\n",
    "그런 그녀를 운명처럼 사랑했던 남자 ‘레트’\n",
    "생애 가장 가슴 벅찬 클래식 로맨스가 찾아온다!\n",
    "\"\"\",\n",
    "    },\n",
    "    {\n",
    "        \"movie\": \"아수라\",\n",
    "        \"answer\": \"\"\"\n",
    "        감독: 김성수\n",
    "        주요 출연진: 정우성, 황정민, 주지훈, 곽도원, 정만식 외\n",
    "        예산: 92억 원\n",
    "        흥행수익: 400억원\n",
    "        장르: 범죄, 액션, 느와르, 정치, 형사, 블랙코미디.\n",
    "        시놉시스: 아수라(阿修羅)\n",
    "축생계와 인간계 사이에 있는 중생이다. 얼굴은 삼면이고\n",
    "손은 여섯 개로, 원래 싸움의 신이었으나 부처님에게 귀의하여 불법을 지키는 신이 되었다.\n",
    "싸움과 시비 걸기를 좋아하는 인간은 아수라로부터 전생(轉生)한 존재인지도 모른다.\n",
    "아수라 중생들이 사는 세계는 서로 다투며 싸우는 곳이다.\n",
    "\n",
    "지옥 같은 세상, 살아남기 위해 싸우는 악인들의 전쟁 <아수라>\n",
    "강력계 형사 한도경(정우성)은 이권과 성공을 위해 각종 범죄를 저지르는 악덕시장 박성배(황정민)의 뒷일을 처리해주는 대가로 돈을 받는다.\n",
    "악에 계속 노출되는 사이, 말기 암 환자인 아내의 병원비를 핑계로 돈 되는 건 뭐든 하는 악인의 길로 들어서게 된 한도경.\n",
    "\n",
    "그의 약점을 쥔 독종 검사 김차인(곽도원)과 검찰수사관 도창학(정만식)은 그를 협박하고 이용해 박성배의 비리와 범죄 혐의를 캐려 한다.\n",
    "각자의 이익과 목적을 위해 한도경의 목을 짓누르는 검찰과 박성배.\n",
    "\n",
    "그 사이 태풍의 눈처럼 되어 버린 한도경은, 자신을 친형처럼 따르는 후배 형사 문선모(주지훈)를 박성배의 수하로 들여보내고,\n",
    "살아남기 위해 혈안이 된 나쁜 놈들 사이에서 서로 물지 않으면 물리는 지옥도가 펼쳐진다.\n",
    "\"\"\",\n",
    "    }, ]\n",
    "\n",
    "example_prompt = ChatPromptTemplate.from_messages([\n",
    "    (\"human\", \"What do you know about movie named {movie}?\"),\n",
    "    (\"ai\", \"{answer}\"),\n",
    "])\n",
    "example_prompt = FewShotChatMessagePromptTemplate(\n",
    "    example_prompt=example_prompt,\n",
    "    examples=examples,\n",
    ")\n",
    "final_prompt = ChatPromptTemplate.from_messages([\n",
    "    (\"system\", \"\"\"\n",
    "    You're job is to explain a movie information to human according to some examples as much as you know.\n",
    "    If you cannot find about movie name that human provide, search actively for other similar movies and suggest them.\n",
    "    And if movie name is series movie, in example harry porter, avengers, ironman, etc, then choose first movie of series.\n",
    "    Ensure to follow the form in examples and make the information in Korean.\n",
    "    \"\"\"),\n",
    "    example_prompt,\n",
    "    (\"human\", \"What do you know about movie named {movie}?\"),\n",
    "])\n",
    "chain = final_prompt | llm\n",
    "result = chain.invoke({\"movie\": \"어벤져스\"})\n",
    "print(result.content)\n"
   ],
   "id": "a9689d2ffb66a5d6",
   "outputs": [
    {
     "name": "stdout",
     "output_type": "stream",
     "text": [
      "어벤져스 시리즈는 마블 코믹스의 캐릭터들을 기반으로 한 영화 시리즈로, 대부분의 슈퍼히어로들이 모여 세계를 구하는 이야기를 다룹니다. 첫 번째 어벤져스 영화는 \"어벤져스\" (The Avengers, 2012)로 알려져 있습니다.\n",
      "\n",
      "        감독: 조스 웨던\n",
      "        주요 출연진: 로버트 다우니 주니어, 크리스 에반스, 크리스 헴스워스, 스칼렛 요한슨, 마크 러팔로 외\n",
      "        예산: 약 2억 20만 달러\n",
      "        흥행수익: 15억 달러 이상\n",
      "        장르: 액션, 모험, 판타지, SF\n",
      "        시놉시스: 다양한 슈퍼히어로들이 모여 세계를 위협하는 악당으로부터 지구를 구하기 위해 힘을 합치는 이야기를 다룹니다. 아이언맨, 캡틴 아메리카, 토르, 헐크, 블랙 위도우, 호크아이 등 다양한 히어로들이 한데 모여 화려한 액션과 스펙터클을 선보입니다. 전 세계적으로 대단한 흥행을 거두며 많은 팬을 확보한 시리즈 중 하나입니다.\n"
     ]
    }
   ],
   "execution_count": 26
  }
 ],
 "metadata": {
  "kernelspec": {
   "name": "python3",
   "language": "python",
   "display_name": "Python 3 (ipykernel)"
  }
 },
 "nbformat": 5,
 "nbformat_minor": 9
}
