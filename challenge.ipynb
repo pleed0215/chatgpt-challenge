{
 "cells": [
  {
   "metadata": {
    "ExecuteTime": {
     "end_time": "2024-12-09T01:53:33.690893Z",
     "start_time": "2024-12-09T01:53:33.686580Z"
    }
   },
   "cell_type": "code",
   "source": [
    "import dotenv\n",
    "dotenv.load_dotenv()"
   ],
   "id": "2c4847142403b60f",
   "outputs": [
    {
     "data": {
      "text/plain": [
       "True"
      ]
     },
     "execution_count": 7,
     "metadata": {},
     "output_type": "execute_result"
    }
   ],
   "execution_count": 7
  },
  {
   "metadata": {
    "ExecuteTime": {
     "end_time": "2024-12-09T01:53:33.735199Z",
     "start_time": "2024-12-09T01:53:33.731752Z"
    }
   },
   "cell_type": "code",
   "source": [
    "from langchain.chat_models import ChatOpenAI\n",
    "from langchain.callbacks import StreamingStdOutCallbackHandler\n",
    "# Use \"gpt-3.5-turbo\" model\n",
    "llm = ChatOpenAI(\n",
    "    model=\"gpt-3.5-turbo\",\n",
    "    temperature=0.1,\n",
    "    streaming=True,\n",
    "    callbacks=[StreamingStdOutCallbackHandler()],\n",
    ")"
   ],
   "id": "f5c4ff0951696b16",
   "outputs": [],
   "execution_count": 8
  },
  {
   "metadata": {
    "ExecuteTime": {
     "end_time": "2024-12-09T01:53:34.231265Z",
     "start_time": "2024-12-09T01:53:33.760457Z"
    }
   },
   "cell_type": "code",
   "source": [
    "from langchain.prompts import ChatPromptTemplate\n",
    "\n",
    "# prompt making haiku.\n",
    "haiku_generating_prompt = ChatPromptTemplate.from_messages(\n",
    "    [\n",
    "        (\"system\", \"You're a specialist in creating haikus about programming languages. Base on programming language, you have to generate an excellent haiku.\"),\n",
    "        (\"human\", \"{programming_language}\"),\n",
    "    ]\n",
    ")\n",
    "generating_haiku_chain = haiku_generating_prompt | llm\n",
    "haiku = generating_haiku_chain.invoke({\n",
    "    \"programming_language\": \"python\",\n",
    "})\n",
    "haiku"
   ],
   "id": "d5ff134f60284092",
   "outputs": [
    {
     "name": "stdout",
     "output_type": "stream",
     "text": [
      "Indentation rules,\n",
      "Pythonic beauty shines bright,\n",
      "Guido's legacy."
     ]
    },
    {
     "data": {
      "text/plain": [
       "AIMessageChunk(content=\"Indentation rules,\\nPythonic beauty shines bright,\\nGuido's legacy.\")"
      ]
     },
     "execution_count": 9,
     "metadata": {},
     "output_type": "execute_result"
    }
   ],
   "execution_count": 9
  },
  {
   "metadata": {
    "ExecuteTime": {
     "end_time": "2024-12-09T01:53:35.418585Z",
     "start_time": "2024-12-09T01:53:34.249877Z"
    }
   },
   "cell_type": "code",
   "source": [
    "# prompt explaining haiku.\n",
    "haiku_explaining_prompt = ChatPromptTemplate.from_messages(\n",
    "    [\n",
    "        (\"system\", \"Your role is explaining haikus from input. Those haikus are base on programming language, you need to explain what haiku means to human as detail as.\"),\n",
    "        (\"human\", \"{haiku}\"),\n",
    "    ]\n",
    ")\n",
    "explaining_haiku_chain = haiku_explaining_prompt | llm\n",
    "explaining = explaining_haiku_chain.invoke({\n",
    "    \"haiku\": haiku,\n",
    "})\n",
    "explaining"
   ],
   "id": "385088f141060818",
   "outputs": [
    {
     "name": "stdout",
     "output_type": "stream",
     "text": [
      "This haiku is a tribute to the Python programming language, known for its emphasis on clean and readable code. The first line, \"Indentation rules,\" refers to Python's unique feature of using indentation to define code blocks, which enforces a consistent and organized structure in the code. The second line, \"Pythonic beauty shines bright,\" celebrates the elegant and expressive nature of Python code, which is often praised for its simplicity and readability. The final line, \"Guido's legacy,\" pays homage to Guido van Rossum, the creator of Python, whose vision and design principles have shaped the language and influenced generations of programmers. Overall, this haiku captures the essence of Python as a language that values clarity, simplicity, and a strong sense of community."
     ]
    },
    {
     "data": {
      "text/plain": [
       "AIMessageChunk(content='This haiku is a tribute to the Python programming language, known for its emphasis on clean and readable code. The first line, \"Indentation rules,\" refers to Python\\'s unique feature of using indentation to define code blocks, which enforces a consistent and organized structure in the code. The second line, \"Pythonic beauty shines bright,\" celebrates the elegant and expressive nature of Python code, which is often praised for its simplicity and readability. The final line, \"Guido\\'s legacy,\" pays homage to Guido van Rossum, the creator of Python, whose vision and design principles have shaped the language and influenced generations of programmers. Overall, this haiku captures the essence of Python as a language that values clarity, simplicity, and a strong sense of community.')"
      ]
     },
     "execution_count": 10,
     "metadata": {},
     "output_type": "execute_result"
    }
   ],
   "execution_count": 10
  },
  {
   "metadata": {
    "ExecuteTime": {
     "end_time": "2024-12-09T01:53:37.929865Z",
     "start_time": "2024-12-09T01:53:35.430741Z"
    }
   },
   "cell_type": "code",
   "source": [
    "# chain two prompt above\n",
    "final_chain = {\"haiku\": generating_haiku_chain} | explaining_haiku_chain\n",
    "final_result = final_chain.invoke({\n",
    "    \"programming_language\": \"c++\",\n",
    "})\n",
    "final_result"
   ],
   "id": "aec1e898d5830570",
   "outputs": [
    {
     "name": "stdout",
     "output_type": "stream",
     "text": [
      "Pointers and classes,\n",
      "Memory management dance,\n",
      "C plus plus prowess.This haiku is about the programming language C++. \n",
      "\n",
      "In the first line, \"Pointers and classes,\" refers to two fundamental concepts in C++ programming. Pointers are variables that store memory addresses, allowing programmers to directly manipulate memory. Classes are user-defined data types that encapsulate data and functions. Together, pointers and classes are powerful tools for organizing and manipulating data in C++.\n",
      "\n",
      "The second line, \"Memory management dance,\" highlights another important aspect of C++ programming - memory management. C++ gives programmers control over memory allocation and deallocation, which can be a complex and delicate process. Proper memory management is crucial in C++ to prevent memory leaks and optimize performance.\n",
      "\n",
      "The final line, \"C plus plus prowess,\" celebrates the skill and expertise required to master C++. C++ is a versatile and powerful language, but it can also be challenging to learn and use effectively. Proficiency in C++ demonstrates a high level of programming skill and problem-solving ability.\n",
      "\n",
      "Overall, this haiku captures the essence of C++ as a language that combines advanced features like pointers and classes with the need for careful memory management and a high level of programming proficiency."
     ]
    },
    {
     "data": {
      "text/plain": [
       "AIMessageChunk(content='This haiku is about the programming language C++. \\n\\nIn the first line, \"Pointers and classes,\" refers to two fundamental concepts in C++ programming. Pointers are variables that store memory addresses, allowing programmers to directly manipulate memory. Classes are user-defined data types that encapsulate data and functions. Together, pointers and classes are powerful tools for organizing and manipulating data in C++.\\n\\nThe second line, \"Memory management dance,\" highlights another important aspect of C++ programming - memory management. C++ gives programmers control over memory allocation and deallocation, which can be a complex and delicate process. Proper memory management is crucial in C++ to prevent memory leaks and optimize performance.\\n\\nThe final line, \"C plus plus prowess,\" celebrates the skill and expertise required to master C++. C++ is a versatile and powerful language, but it can also be challenging to learn and use effectively. Proficiency in C++ demonstrates a high level of programming skill and problem-solving ability.\\n\\nOverall, this haiku captures the essence of C++ as a language that combines advanced features like pointers and classes with the need for careful memory management and a high level of programming proficiency.')"
      ]
     },
     "execution_count": 11,
     "metadata": {},
     "output_type": "execute_result"
    }
   ],
   "execution_count": 11
  },
  {
   "metadata": {
    "ExecuteTime": {
     "end_time": "2024-12-09T01:53:37.938622Z",
     "start_time": "2024-12-09T01:53:37.937230Z"
    }
   },
   "cell_type": "code",
   "source": "",
   "id": "2def25ee11e7bb59",
   "outputs": [],
   "execution_count": null
  }
 ],
 "metadata": {
  "kernelspec": {
   "name": "python3",
   "language": "python",
   "display_name": "Python 3 (ipykernel)"
  }
 },
 "nbformat": 5,
 "nbformat_minor": 9
}
